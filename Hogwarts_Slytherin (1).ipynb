{
 "cells": [
  {
   "cell_type": "markdown",
   "metadata": {},
   "source": [
    "# Hogwarts School of Data Wizardry\n",
    "## Session 1: Intro to Python!\n",
    "`Slytherin`  |   [GitHub](https://github.tesla.com/EHSS/Hogwarts) | [Documentation](https://confluence.teslamotors.com/display/EHSSST/Hogwarts+School+of+Data+Wizardry)"
   ]
  },
  {
   "cell_type": "markdown",
   "metadata": {},
   "source": [
    "#################################################################################################################################################\n",
    "#################################################################################################################################################"
   ]
  },
  {
   "cell_type": "markdown",
   "metadata": {},
   "source": [
    "## Table of Contents:\n",
    "### 1. [Introduction](#1-introduction)\n",
    "-  [1.1 What is Python](#11-what-is-python)\n",
    "-  [1.2 Running Python](#12-how-can-we-run-python)\n",
    "### 2. [Data Types](#2-data-types)\n",
    "- [2.1 Lists](#21-lists)\n",
    "- [2.2 Dictionaries](#22-dictionaries)\n",
    "### 3. [Conditionals](#3-conditional-statements)\n",
    "### 4. [Functions](#4-functions)\n",
    "- [4.1 Practice](#41-try-it-out)\n",
    "### 5. [Iteration](#5-iteration)\n",
    "- [5.1 For Loops](#51-for-loops)\n",
    "- [5.2 While Loops](#52-while-loops)\n",
    "- [5.3 Practice](#53-try-it-out)\n",
    "### 6. [Datafranes](#7-dataframes)\n",
    "- [6.1 Loading the Data](#61-getting-the-data)\n",
    "- [6.2 Exploring the Data](#62-exploring-the-data)\n",
    "- [6.3 Changing the Data](#63-slicing-the-data)\n",
    "- [6.3.1 Example](#631-example)\n",
    "- [6.3.2 Practice](#632-try-it-out)\n",
    "### 7. [Error Checking](#8-error-checking)\n",
    "- [7.1 Try and Except](#71-try--except)\n",
    "- [7.2 Assert](#72-assert-statements)\n",
    "- [7.3 Conditional](#73-conditionals)\n",
    "- [7.4 Raise Exception](#74-raise-exceptions)\n",
    "### 8. [Solutions](#8-solutions)\n",
    "- [Solution to 4.1](#41-solution)\n",
    "- [Solution to 5.3](#53-solution)\n",
    "- [Solution to 6.3.2](#733-solution)"
   ]
  },
  {
   "cell_type": "markdown",
   "metadata": {},
   "source": [
    "#################################################################################################################################################\n",
    "#################################################################################################################################################"
   ]
  },
  {
   "cell_type": "markdown",
   "metadata": {},
   "source": [
    "## 1. Introduction"
   ]
  },
  {
   "cell_type": "markdown",
   "metadata": {},
   "source": [
    "#### 1.1 What is Python?\n",
    "\n",
    "Python is a high-level, interpretive programming language that we will use for all things data! Some possible use cases:\n",
    "- cleaning a data set\n",
    "- creating a dataframe\n",
    "- filling a data table\n",
    "- exploring data science algorithms on a data set\n",
    "- accessing an API\n",
    "- migrating data to SQL server\n",
    "- web-scraping\n",
    "\n",
    "... and a ton of other automated workflows. \n",
    "\n",
    "There are so many resources online to learn about python as a programming language, in the context of data science, and other use cases. My favorite resource is [this textbook](http://composingprograms.com/) written by Berkeley for the intro computer science course."
   ]
  },
  {
   "cell_type": "markdown",
   "metadata": {},
   "source": [
    "##### To run a cell, use 'shift' + 'enter' to run and keep running, or 'ctrl' + 'enter' to sprint and stop. "
   ]
  },
  {
   "cell_type": "markdown",
   "metadata": {},
   "source": [
    "#### 1.2 How can we run Python?"
   ]
  },
  {
   "cell_type": "markdown",
   "metadata": {},
   "source": [
    "We like using `.ipynb` and `.py` files to run our python codes. \n",
    "\n",
    "`ipynb` files are Jupyter Notebooks, where the output of the code is displayed in the immediate environment. Very useful for real-time data cleaning or analysis. \n",
    "\n",
    "`py` files are Python files, useful for running automated reports and functions, especially when defining classes. "
   ]
  },
  {
   "cell_type": "code",
   "execution_count": 3,
   "metadata": {},
   "outputs": [
    {
     "name": "stdout",
     "output_type": "stream",
     "text": [
      "Hello Data Wizards!\n"
     ]
    }
   ],
   "source": [
    "#This is an example of a print statement, requires single or double quotes inside of the print() function call. \n",
    "print(\"Hello Data Wizards!\")"
   ]
  },
  {
   "cell_type": "markdown",
   "metadata": {},
   "source": [
    "#### 1.3 Python Packages\n",
    "\n",
    "Pandas is a powerful python package used primarily for "
   ]
  },
  {
   "cell_type": "code",
   "execution_count": 4,
   "metadata": {},
   "outputs": [],
   "source": [
    "import pandas as pd\n",
    "import numpy as np\n",
    "import math"
   ]
  },
  {
   "cell_type": "markdown",
   "metadata": {},
   "source": [
    "#################################################################################################################################################"
   ]
  },
  {
   "cell_type": "markdown",
   "metadata": {},
   "source": [
    "## 2. Data Types / Structures"
   ]
  },
  {
   "cell_type": "markdown",
   "metadata": {},
   "source": [
    "The 4 collection data types in Python are:\n",
    "- List \n",
    "    - [ordered, changeable, duplicates allowed]\n",
    "- Tuple \n",
    "    - [ordered, unchangeable, duplicates allowed]\n",
    "- Set \n",
    "    - [unordered, unchangeable, unique values]\n",
    "- Dictionary \n",
    "    - [ordered, changeable, unique values]"
   ]
  },
  {
   "cell_type": "markdown",
   "metadata": {},
   "source": [
    "In python, booleans are either `True` or `False`, corresponding to 1 (as a True value) and 0 (as a false value.)"
   ]
  },
  {
   "cell_type": "code",
   "execution_count": 5,
   "metadata": {},
   "outputs": [],
   "source": [
    "booleans = [True, False]"
   ]
  },
  {
   "cell_type": "markdown",
   "metadata": {},
   "source": [
    "To reference a variable in our code, we must first initialize (i.e. set) the variable.\n",
    "\n",
    "*Some simple variable initializations are:*\n",
    "\n",
    "\n",
    "* list_variable = []\n",
    "* string_variable = \" \"\n",
    "* int_variable = 0\n",
    "* tuple_variable = ()"
   ]
  },
  {
   "cell_type": "markdown",
   "metadata": {},
   "source": [
    "### 2.1 Lists"
   ]
  },
  {
   "cell_type": "markdown",
   "metadata": {},
   "source": [
    "Lists are widely used in python, and have great buil-in functions. \n",
    "\n",
    "Explore these below:\n",
    "- `append`\n",
    "- `extend`\n",
    "- `insert`\n",
    "- `remove`\n",
    "- `pop`\n",
    "- `clear`"
   ]
  },
  {
   "cell_type": "code",
   "execution_count": 36,
   "metadata": {},
   "outputs": [
    {
     "name": "stdout",
     "output_type": "stream",
     "text": [
      "['Dumbledore', 'Snape']\n",
      "Appending ['Dumbledore', 'Snape', ['Ron', 'Hermoine']]\n",
      "Extending ['Dumbledore', 'Snape', ['Ron', 'Hermoine'], 'Harry', 'Voldy']\n",
      "Inserting ['Draco', 'Dumbledore', 'Snape', ['Ron', 'Hermoine'], 'Harry', 'Voldy']\n"
     ]
    }
   ],
   "source": [
    "wizard_list = [\"Dumbledore\", \"Snape\"]\n",
    "print(wizard_list)\n",
    "\n",
    "wizard_list.append([\"Ron\", \"Hermoine\"])\n",
    "print(\"Appending\", wizard_list)\n",
    "\n",
    "wizard_list.extend([\"Harry\", \"Voldy\"])\n",
    "print(\"Extending\", wizard_list)\n",
    "\n",
    "wizard_list.insert(0, \"Draco\")\n",
    "print(\"Inserting\", wizard_list)"
   ]
  },
  {
   "cell_type": "code",
   "execution_count": 37,
   "metadata": {},
   "outputs": [
    {
     "name": "stdout",
     "output_type": "stream",
     "text": [
      "Bye Draco ['Dumbledore', 'Snape', ['Ron', 'Hermoine'], 'Harry', 'Voldy']\n",
      "Pop! Voldy ['Dumbledore', 'Snape', ['Ron', 'Hermoine'], 'Harry']\n",
      "Bye ALL wizards []\n"
     ]
    }
   ],
   "source": [
    "wizard_list.remove('Draco')\n",
    "print(\"Bye Draco\", wizard_list)\n",
    "\n",
    "popped_wizard = wizard_list.pop()\n",
    "print(\"Pop!\", popped_wizard, wizard_list)\n",
    "\n",
    "wizard_list.clear()\n",
    "print(\"Bye ALL wizards\", wizard_list)"
   ]
  },
  {
   "cell_type": "code",
   "execution_count": 47,
   "metadata": {},
   "outputs": [
    {
     "name": "stdout",
     "output_type": "stream",
     "text": [
      "My list is 4 values long\n",
      "The value 8 is at the 3rd index\n",
      "Grabbing only the 3rd and 4th index: [6, 8]\n"
     ]
    }
   ],
   "source": [
    "even_ints = [2, 4, 6, 8]\n",
    "print(f'My list is {len(even_ints)} values long')\n",
    "\n",
    "print(f'The value 8 is at the {even_ints.index(8)}rd index')\n",
    "\n",
    "print(f'Grabbing only the 3rd and 4th index: {even_ints[2:4]}')"
   ]
  },
  {
   "cell_type": "markdown",
   "metadata": {},
   "source": [
    "### 2.2 Dictionaries"
   ]
  },
  {
   "cell_type": "markdown",
   "metadata": {},
   "source": [
    "Dictionaries are useful to create *mappings*\n",
    "\n",
    "Below is an example of how we can create a dictionary with `key` : `value` pairs.\n",
    "\n",
    "In python, dictionaries are ordered and unique."
   ]
  },
  {
   "cell_type": "code",
   "execution_count": 48,
   "metadata": {},
   "outputs": [],
   "source": [
    "wizard_rating = {'Harry':10, 'Voldy':5, 'Dumbledore':9, 'Ron':7, 'Snape':6}"
   ]
  },
  {
   "cell_type": "code",
   "execution_count": 49,
   "metadata": {},
   "outputs": [
    {
     "name": "stdout",
     "output_type": "stream",
     "text": [
      "10\n"
     ]
    }
   ],
   "source": [
    "print(wizard_rating['Harry'])"
   ]
  },
  {
   "cell_type": "markdown",
   "metadata": {},
   "source": [
    "We can also create dictionaries that contain different data types. "
   ]
  },
  {
   "cell_type": "code",
   "execution_count": 51,
   "metadata": {},
   "outputs": [
    {
     "name": "stdout",
     "output_type": "stream",
     "text": [
      "{'age': 10, 'parents': 'dead', 'friends': ['Ron', 'Hermoine']}\n",
      "Harry's friends are ['Ron', 'Hermoine']\n"
     ]
    }
   ],
   "source": [
    "harry = {'age': 10, 'parents': 'dead', 'friends':['Ron', 'Hermoine']}\n",
    "print(harry)\n",
    "print(f\"Harry's friends are {harry['friends']}\")"
   ]
  },
  {
   "cell_type": "markdown",
   "metadata": {},
   "source": [
    "#################################################################################################################################################\n"
   ]
  },
  {
   "cell_type": "markdown",
   "metadata": {},
   "source": [
    "## 3. Conditional Statements"
   ]
  },
  {
   "cell_type": "code",
   "execution_count": 6,
   "metadata": {},
   "outputs": [
    {
     "name": "stdout",
     "output_type": "stream",
     "text": [
      "This better get printed\n"
     ]
    }
   ],
   "source": [
    "if 5 > 7:\n",
    "    print(\"This is incorrect\")\n",
    "elif 5 == 7:\n",
    "    print(\"Nope, not this\")\n",
    "else:\n",
    "    print(\"This better get printed\")"
   ]
  },
  {
   "cell_type": "markdown",
   "metadata": {},
   "source": [
    "Run the cells below to see how conditional statements logic works. \n",
    "\n",
    "Try to answer the following questions:\n",
    "1. When 2 truthy values are seperated by `and`, which one gets evaluated?\n",
    "2. When 2 truthy values are seperated by `or`, which one gets evaluated?\n",
    "3. What is the difference between multiple `if` clauses v. `if`, `elif`?\n",
    "4. What happens when there is no `else` statement following an `if` statement?"
   ]
  },
  {
   "cell_type": "code",
   "execution_count": 1,
   "metadata": {},
   "outputs": [
    {
     "name": "stdout",
     "output_type": "stream",
     "text": [
      "2\n"
     ]
    }
   ],
   "source": [
    "number = 8\n",
    "\n",
    "if number > 0 and number > 5:\n",
    "    print(str(number // 3))"
   ]
  },
  {
   "cell_type": "code",
   "execution_count": 2,
   "metadata": {},
   "outputs": [
    {
     "name": "stdout",
     "output_type": "stream",
     "text": [
      "64\n"
     ]
    }
   ],
   "source": [
    "if number < 0 or number > 5:\n",
    "    print(str(number ** 2))"
   ]
  },
  {
   "cell_type": "code",
   "execution_count": 3,
   "metadata": {},
   "outputs": [
    {
     "name": "stdout",
     "output_type": "stream",
     "text": [
      "hey there\n",
      "this number is even\n"
     ]
    }
   ],
   "source": [
    "if number > 0:\n",
    "    print(\"hey there\")\n",
    "if (number % 2) == 0:\n",
    "    print(\"this number is even\")"
   ]
  },
  {
   "cell_type": "code",
   "execution_count": 4,
   "metadata": {},
   "outputs": [
    {
     "name": "stdout",
     "output_type": "stream",
     "text": [
      "hey there\n"
     ]
    }
   ],
   "source": [
    "if number > 0:\n",
    "    print(\"hey there\")\n",
    "elif (number % 2) == 0:\n",
    "    print(\"this number is even\")"
   ]
  },
  {
   "cell_type": "code",
   "execution_count": null,
   "metadata": {},
   "outputs": [],
   "source": []
  },
  {
   "cell_type": "markdown",
   "metadata": {},
   "source": [
    "#################################################################################################################################################\n"
   ]
  },
  {
   "cell_type": "markdown",
   "metadata": {},
   "source": [
    "## 4. Functions"
   ]
  },
  {
   "cell_type": "code",
   "execution_count": 7,
   "metadata": {},
   "outputs": [],
   "source": [
    "#an example of a function using conditionals (if / elif / else) and return statements. This takes in one argument (num)\n",
    "def calc(num):\n",
    "    '''\n",
    "    Function descriptions often go inside here. \n",
    "    Specificy args. \n",
    "    Specificy return values.\n",
    "    Any other useful info. \n",
    "    '''\n",
    "    if num < 10:\n",
    "        return num-1\n",
    "    elif num == 10:\n",
    "        return num / 2\n",
    "    else:\n",
    "        return num"
   ]
  },
  {
   "cell_type": "code",
   "execution_count": 8,
   "metadata": {},
   "outputs": [
    {
     "data": {
      "text/plain": [
       "7"
      ]
     },
     "execution_count": 8,
     "metadata": {},
     "output_type": "execute_result"
    }
   ],
   "source": [
    "#we can now call our function and pass in the argument\n",
    "calc(8)"
   ]
  },
  {
   "cell_type": "code",
   "execution_count": 9,
   "metadata": {},
   "outputs": [
    {
     "data": {
      "text/plain": [
       "5.0"
      ]
     },
     "execution_count": 9,
     "metadata": {},
     "output_type": "execute_result"
    }
   ],
   "source": [
    "calc(10)"
   ]
  },
  {
   "cell_type": "code",
   "execution_count": 10,
   "metadata": {},
   "outputs": [
    {
     "name": "stdout",
     "output_type": "stream",
     "text": [
      "Both are truthy values\n",
      "At least one is a truthy value\n"
     ]
    }
   ],
   "source": [
    "if calc(8) and calc(10):\n",
    "    print(\"Both are truthy values\")\n",
    "if calc(4) or calc(9):\n",
    "    print(\"At least one is a truthy value\")\n",
    "else:\n",
    "    print(\"Falsey values\")"
   ]
  },
  {
   "cell_type": "markdown",
   "metadata": {},
   "source": [
    "Notice that both statements are printed because the two conditional statements are [if] statements, not if and elif, so both get statements are executed. "
   ]
  },
  {
   "cell_type": "markdown",
   "metadata": {},
   "source": [
    "### 4.1 Try It Out!\n",
    "Problem: \n",
    "\n",
    "Write a function that takes in two arguments, a numerator and denominator. \n",
    "\n",
    "If the fraction divides evenly, then return the fraction and print \"Divides evenly!\"\n",
    "Otherwise, return the remainder and print \"Not divisible by :(, the remainder is \" #include the remainder value"
   ]
  },
  {
   "cell_type": "code",
   "execution_count": 6,
   "metadata": {},
   "outputs": [],
   "source": [
    "#TODO\n",
    "def divisible_by(numerator, denominator):\n",
    "    \"\"\"\n",
    "    YOUR CODE HERE\n",
    "    \"\"\"\n",
    "    return #FILL ME IN"
   ]
  },
  {
   "cell_type": "code",
   "execution_count": null,
   "metadata": {},
   "outputs": [],
   "source": [
    "divisible_by(9,3)"
   ]
  },
  {
   "cell_type": "code",
   "execution_count": null,
   "metadata": {},
   "outputs": [],
   "source": [
    "divisible_by(10435,61)"
   ]
  },
  {
   "cell_type": "markdown",
   "metadata": {},
   "source": [
    "#################################################################################################################################################\n"
   ]
  },
  {
   "cell_type": "markdown",
   "metadata": {},
   "source": [
    "## 5. Iteration\n",
    "For loops, while loops, iterable objects."
   ]
  },
  {
   "cell_type": "markdown",
   "metadata": {},
   "source": [
    "### 5.1 For Loops"
   ]
  },
  {
   "cell_type": "markdown",
   "metadata": {},
   "source": [
    "The syntax of a for loop is as follows:\n",
    "\n",
    "#### 'for' + (counter variable) + 'in' + (iterable object) + ':'"
   ]
  },
  {
   "cell_type": "code",
   "execution_count": 11,
   "metadata": {},
   "outputs": [
    {
     "name": "stdout",
     "output_type": "stream",
     "text": [
      "0 gets evaluated to -1\n",
      "1 gets evaluated to 0\n",
      "2 gets evaluated to 1\n",
      "3 gets evaluated to 2\n",
      "4 gets evaluated to 3\n",
      "5 gets evaluated to 4\n",
      "6 gets evaluated to 5\n",
      "7 gets evaluated to 6\n",
      "8 gets evaluated to 7\n",
      "9 gets evaluated to 8\n",
      "10 gets evaluated to 5.0\n"
     ]
    }
   ],
   "source": [
    "#we can even run our function on a list of numbers\n",
    "for i in np.arange(11):\n",
    "    print(str(i) + \" gets evaluated to \" + str(calc(i)))"
   ]
  },
  {
   "cell_type": "markdown",
   "metadata": {},
   "source": [
    "This is an example of iteration, using a for loop to run the same piece of code on a range of values. Here we use np.arange() to make an array from 0 to 10, but we can initialize arrays differently. We can also iterate through any *iterable* object, not just arrays. "
   ]
  },
  {
   "cell_type": "markdown",
   "metadata": {},
   "source": [
    "### 5.2 While Loops"
   ]
  },
  {
   "cell_type": "markdown",
   "metadata": {},
   "source": [
    "We can do something similar in a while loop, which checks the condition through every iteration of the loop, and so long as the condition is met, the code block underneath will be executed.\n",
    "\n",
    "\n",
    "<span style=\"color:red\">*WARNING: Do not fall into an infinite loop. Make sure that at some point, your condition is no longer met and the loop TERMINATES.* </span>."
   ]
  },
  {
   "cell_type": "code",
   "execution_count": 12,
   "metadata": {},
   "outputs": [
    {
     "name": "stdout",
     "output_type": "stream",
     "text": [
      "You're a wizard\n",
      "You're a wizard\n",
      "You're a wizard\n",
      "You're a wizard\n",
      "You're a wizard\n",
      "You're a wizard\n",
      "You're a wizard\n",
      "You're a wizard\n",
      "You're a wizard\n",
      "You're a wizard\n"
     ]
    }
   ],
   "source": [
    "x = 0\n",
    "\n",
    "while x < 10:\n",
    "    print(\"You're a wizard\")\n",
    "    x += 1"
   ]
  },
  {
   "cell_type": "markdown",
   "metadata": {},
   "source": [
    "The syntax for a while loop is:\n",
    "\n",
    "#### 'while' + condition + ':'"
   ]
  },
  {
   "cell_type": "markdown",
   "metadata": {},
   "source": [
    "In this case, our condition is checking the value of a variable. \n",
    "\n",
    "Notice that the variable is incremented, using `+=` which is equivalent to `x = x + 1`. \n",
    "We can do a similar thing for decrementing, using `-=` or `x = x - 1`"
   ]
  },
  {
   "cell_type": "markdown",
   "metadata": {},
   "source": [
    "Python is great for simple data structures. \n",
    "Useful examples:\n",
    "- arrays\n",
    "- lists\n",
    "- dictionaries\n",
    "- dataframes\n",
    "\n",
    "For our purposes we will largely be working with dataframes, so we need to import some packages and prepare a csv file. "
   ]
  },
  {
   "cell_type": "markdown",
   "metadata": {},
   "source": [
    "### 5.3 Try It Out!\n",
    "\n",
    "Problem Statement: Using a for loop, or while loop, print out the odd / even status, of every integer from 1-20. \n",
    "i.e. result should look like:\n",
    "\n",
    "1: odd\n",
    "\n",
    "2: even\n",
    "\n",
    "3: odd\n",
    "\n",
    "4: even\n",
    "\n",
    "...."
   ]
  },
  {
   "cell_type": "code",
   "execution_count": 71,
   "metadata": {},
   "outputs": [],
   "source": [
    "#ANSWER\n",
    "#TODO"
   ]
  },
  {
   "cell_type": "markdown",
   "metadata": {},
   "source": [
    "#################################################################################################################################################\n"
   ]
  },
  {
   "cell_type": "markdown",
   "metadata": {},
   "source": [
    "## 6. DataFrames"
   ]
  },
  {
   "cell_type": "markdown",
   "metadata": {},
   "source": [
    "### 6.1 Getting the Data"
   ]
  },
  {
   "cell_type": "markdown",
   "metadata": {},
   "source": [
    "These packages need to be imported at the start of every jupyter notebook or python file, when referenced in the script. \n",
    "\n",
    "We'll likely use other packages (like `pyodbc` for connection to SQL Server or `sklearn` for machine learning algorithms.)"
   ]
  },
  {
   "cell_type": "markdown",
   "metadata": {},
   "source": [
    "Once that is done, we need to define our filepath of the csv file to use for our dataframe. \n",
    "\n",
    "You can do this by navigating to *File Explorer* and finding the csv in there.\n",
    "\n",
    "[DOWNLOAD THE CSV HERE.](https://teslamotorsinc.sharepoint.com/:x:/s/GlobalEHSSharePoint/SystemsTools/EZ32-o1EBnNMvetyhd8QGpMBW6KK7Hh4xyX4eHUFN7F7Gg?e=q4mQHq)"
   ]
  },
  {
   "cell_type": "code",
   "execution_count": 79,
   "metadata": {},
   "outputs": [],
   "source": [
    "#REPLACE your filepath inside the quotation marks. \n",
    "filepath = \"/Users/hhalabieh/Downloads/EHSCourseData.csv\" #REPLACEME\n",
    "\n",
    "#then read in the file with the line below\n",
    "dataframe = pd.read_csv(filepath)"
   ]
  },
  {
   "cell_type": "markdown",
   "metadata": {},
   "source": [
    "We can call DataFrame.head() to make sure that our dataframe has the right data in it. Without specifying any arguments, .head() returns the top 5 rows. \n",
    "\n",
    "Think of it as: SELECT * TOP 5 FROM ..."
   ]
  },
  {
   "cell_type": "code",
   "execution_count": 14,
   "metadata": {},
   "outputs": [
    {
     "data": {
      "text/html": [
       "<div>\n",
       "<style scoped>\n",
       "    .dataframe tbody tr th:only-of-type {\n",
       "        vertical-align: middle;\n",
       "    }\n",
       "\n",
       "    .dataframe tbody tr th {\n",
       "        vertical-align: top;\n",
       "    }\n",
       "\n",
       "    .dataframe thead th {\n",
       "        text-align: right;\n",
       "    }\n",
       "</style>\n",
       "<table border=\"1\" class=\"dataframe\">\n",
       "  <thead>\n",
       "    <tr style=\"text-align: right;\">\n",
       "      <th></th>\n",
       "      <th>ContentDisplayName</th>\n",
       "      <th>Duration</th>\n",
       "      <th>Description</th>\n",
       "    </tr>\n",
       "  </thead>\n",
       "  <tbody>\n",
       "    <tr>\n",
       "      <th>0</th>\n",
       "      <td>EHS6029 Fall Protection Competent Person - Int...</td>\n",
       "      <td>2 hours</td>\n",
       "      <td>Audience: Product Deployment Employees (Energy...</td>\n",
       "    </tr>\n",
       "    <tr>\n",
       "      <th>1</th>\n",
       "      <td>EHS6038 Fleet Safety - Introduction to Safe Dr...</td>\n",
       "      <td>20 minutes</td>\n",
       "      <td>Audience: Energy and SSD employees\\nDescriptio...</td>\n",
       "    </tr>\n",
       "    <tr>\n",
       "      <th>2</th>\n",
       "      <td>EHS6049 Gold Shovel Training</td>\n",
       "      <td>20 minutes</td>\n",
       "      <td>Audience: Product Deployment Employees (Energy...</td>\n",
       "    </tr>\n",
       "    <tr>\n",
       "      <th>3</th>\n",
       "      <td>EHS6051 Hammer Drills - Safety and Use</td>\n",
       "      <td>10 minutes</td>\n",
       "      <td>Audience: Product Deployment Employees (Energy...</td>\n",
       "    </tr>\n",
       "    <tr>\n",
       "      <th>4</th>\n",
       "      <td>EHS6052 Impact Driver Safety and Use</td>\n",
       "      <td>10 minutes</td>\n",
       "      <td>Audience: Product Deployment Employees (Energy...</td>\n",
       "    </tr>\n",
       "  </tbody>\n",
       "</table>\n",
       "</div>"
      ],
      "text/plain": [
       "                                  ContentDisplayName    Duration  \\\n",
       "0  EHS6029 Fall Protection Competent Person - Int...     2 hours   \n",
       "1  EHS6038 Fleet Safety - Introduction to Safe Dr...  20 minutes   \n",
       "2                       EHS6049 Gold Shovel Training  20 minutes   \n",
       "3             EHS6051 Hammer Drills - Safety and Use  10 minutes   \n",
       "4               EHS6052 Impact Driver Safety and Use  10 minutes   \n",
       "\n",
       "                                         Description  \n",
       "0  Audience: Product Deployment Employees (Energy...  \n",
       "1  Audience: Energy and SSD employees\\nDescriptio...  \n",
       "2  Audience: Product Deployment Employees (Energy...  \n",
       "3  Audience: Product Deployment Employees (Energy...  \n",
       "4  Audience: Product Deployment Employees (Energy...  "
      ]
     },
     "execution_count": 14,
     "metadata": {},
     "output_type": "execute_result"
    }
   ],
   "source": [
    "dataframe.head()"
   ]
  },
  {
   "cell_type": "markdown",
   "metadata": {},
   "source": [
    "### 6.2 Exploring the Data"
   ]
  },
  {
   "cell_type": "markdown",
   "metadata": {},
   "source": [
    "To find out how big our data table is, let's explore its size. "
   ]
  },
  {
   "cell_type": "code",
   "execution_count": 15,
   "metadata": {},
   "outputs": [],
   "source": [
    "size = dataframe.size\n",
    "length = len(dataframe)\n",
    "width = len(dataframe.columns)"
   ]
  },
  {
   "cell_type": "code",
   "execution_count": 16,
   "metadata": {},
   "outputs": [
    {
     "name": "stdout",
     "output_type": "stream",
     "text": [
      "The dataframe has 689 rows and 3 columns, with a total of 2067 data points.\n"
     ]
    }
   ],
   "source": [
    "#To print text with integers, we had to convert the integers to type string, in order to concatenate them into a long string\n",
    "print(\"The dataframe has \" + str(length) + \" rows and \" + str(width)  + \" columns, with a total of \" + str(size) + \" data points.\")"
   ]
  },
  {
   "cell_type": "code",
   "execution_count": 17,
   "metadata": {},
   "outputs": [
    {
     "data": {
      "text/plain": [
       "Index(['ContentDisplayName', 'Duration', 'Description'], dtype='object')"
      ]
     },
     "execution_count": 17,
     "metadata": {},
     "output_type": "execute_result"
    }
   ],
   "source": [
    "#now let's see what column names we have\n",
    "dataframe.columns"
   ]
  },
  {
   "cell_type": "markdown",
   "metadata": {},
   "source": [
    "We often want to rename our columns so they are easier to reference. \n",
    "\n",
    "In order to do that, we will use a *dictionary*\n",
    "Essentially, it is a mapping between {key : value} pairs, seperated by commas.\n",
    "\n",
    "Here, we want to map the old column names to new column names."
   ]
  },
  {
   "cell_type": "code",
   "execution_count": 18,
   "metadata": {},
   "outputs": [],
   "source": [
    "columns_dict = {\"ContentDisplayName\" : \"Name\", \"Duration\" : \"Time\", \"Description\" : \"Details\"}"
   ]
  },
  {
   "cell_type": "code",
   "execution_count": 19,
   "metadata": {},
   "outputs": [],
   "source": [
    "#To rename the columns, we call DataFrame.rename() as a function and pass in the necessary arguments\n",
    "# mapping = columns_dict\n",
    "# axis = 1 (for columns) or 0 (for rows)\n",
    "# inplace = True (replaces the current dataframe) or False (creates a new dataframe)\n",
    "dataframe.rename(columns_dict, axis=1, inplace=True)"
   ]
  },
  {
   "cell_type": "code",
   "execution_count": 20,
   "metadata": {},
   "outputs": [
    {
     "data": {
      "text/html": [
       "<div>\n",
       "<style scoped>\n",
       "    .dataframe tbody tr th:only-of-type {\n",
       "        vertical-align: middle;\n",
       "    }\n",
       "\n",
       "    .dataframe tbody tr th {\n",
       "        vertical-align: top;\n",
       "    }\n",
       "\n",
       "    .dataframe thead th {\n",
       "        text-align: right;\n",
       "    }\n",
       "</style>\n",
       "<table border=\"1\" class=\"dataframe\">\n",
       "  <thead>\n",
       "    <tr style=\"text-align: right;\">\n",
       "      <th></th>\n",
       "      <th>Name</th>\n",
       "      <th>Time</th>\n",
       "      <th>Details</th>\n",
       "    </tr>\n",
       "  </thead>\n",
       "  <tbody>\n",
       "    <tr>\n",
       "      <th>0</th>\n",
       "      <td>EHS6029 Fall Protection Competent Person - Int...</td>\n",
       "      <td>2 hours</td>\n",
       "      <td>Audience: Product Deployment Employees (Energy...</td>\n",
       "    </tr>\n",
       "    <tr>\n",
       "      <th>1</th>\n",
       "      <td>EHS6038 Fleet Safety - Introduction to Safe Dr...</td>\n",
       "      <td>20 minutes</td>\n",
       "      <td>Audience: Energy and SSD employees\\nDescriptio...</td>\n",
       "    </tr>\n",
       "    <tr>\n",
       "      <th>2</th>\n",
       "      <td>EHS6049 Gold Shovel Training</td>\n",
       "      <td>20 minutes</td>\n",
       "      <td>Audience: Product Deployment Employees (Energy...</td>\n",
       "    </tr>\n",
       "    <tr>\n",
       "      <th>3</th>\n",
       "      <td>EHS6051 Hammer Drills - Safety and Use</td>\n",
       "      <td>10 minutes</td>\n",
       "      <td>Audience: Product Deployment Employees (Energy...</td>\n",
       "    </tr>\n",
       "    <tr>\n",
       "      <th>4</th>\n",
       "      <td>EHS6052 Impact Driver Safety and Use</td>\n",
       "      <td>10 minutes</td>\n",
       "      <td>Audience: Product Deployment Employees (Energy...</td>\n",
       "    </tr>\n",
       "  </tbody>\n",
       "</table>\n",
       "</div>"
      ],
      "text/plain": [
       "                                                Name        Time  \\\n",
       "0  EHS6029 Fall Protection Competent Person - Int...     2 hours   \n",
       "1  EHS6038 Fleet Safety - Introduction to Safe Dr...  20 minutes   \n",
       "2                       EHS6049 Gold Shovel Training  20 minutes   \n",
       "3             EHS6051 Hammer Drills - Safety and Use  10 minutes   \n",
       "4               EHS6052 Impact Driver Safety and Use  10 minutes   \n",
       "\n",
       "                                             Details  \n",
       "0  Audience: Product Deployment Employees (Energy...  \n",
       "1  Audience: Energy and SSD employees\\nDescriptio...  \n",
       "2  Audience: Product Deployment Employees (Energy...  \n",
       "3  Audience: Product Deployment Employees (Energy...  \n",
       "4  Audience: Product Deployment Employees (Energy...  "
      ]
     },
     "execution_count": 20,
     "metadata": {},
     "output_type": "execute_result"
    }
   ],
   "source": [
    "#now we check to see that the column names have reflected properly\n",
    "dataframe.head()"
   ]
  },
  {
   "cell_type": "markdown",
   "metadata": {},
   "source": [
    "Suppose we don't want any rows of duplicate data in our dataframe, then we can run DataFrame.drop_duplicates() on the dataframe\n",
    "\n",
    "--we can specify a subset of the columns as an optional argument, in case we want to check rows that are duplicated against only specific column values. "
   ]
  },
  {
   "cell_type": "code",
   "execution_count": 21,
   "metadata": {},
   "outputs": [
    {
     "data": {
      "text/plain": [
       "670"
      ]
     },
     "execution_count": 21,
     "metadata": {},
     "output_type": "execute_result"
    }
   ],
   "source": [
    "dataframe.drop_duplicates(inplace=True)\n",
    "len(dataframe)"
   ]
  },
  {
   "cell_type": "markdown",
   "metadata": {},
   "source": [
    "### 6.3 Slicing the Data"
   ]
  },
  {
   "cell_type": "markdown",
   "metadata": {},
   "source": [
    "We can grab one column of the dataframe, as an array, by specificying the column name in square brackets. "
   ]
  },
  {
   "cell_type": "code",
   "execution_count": 22,
   "metadata": {},
   "outputs": [
    {
     "data": {
      "text/plain": [
       "0      Audience: Product Deployment Employees (Energy...\n",
       "1      Audience: Energy and SSD employees\\nDescriptio...\n",
       "2      Audience: Product Deployment Employees (Energy...\n",
       "3      Audience: Product Deployment Employees (Energy...\n",
       "4      Audience: Product Deployment Employees (Energy...\n",
       "                             ...                        \n",
       "684    The Fremont Security Training Program is a com...\n",
       "685    Description: This program is for Gigafactory N...\n",
       "686    This is the practical exam required to become ...\n",
       "687    *Draft* This program contains the required tra...\n",
       "688    This course will review Tesla's Hearing Protec...\n",
       "Name: Details, Length: 670, dtype: object"
      ]
     },
     "execution_count": 22,
     "metadata": {},
     "output_type": "execute_result"
    }
   ],
   "source": [
    "details_array = dataframe['Details']\n",
    "details_array"
   ]
  },
  {
   "cell_type": "markdown",
   "metadata": {},
   "source": [
    "Suppose we wanted to select only a few columns from our dataframe, the best way to do this is to *slice* our dataframe and set it equal to a new dataframe. "
   ]
  },
  {
   "cell_type": "code",
   "execution_count": 23,
   "metadata": {},
   "outputs": [
    {
     "data": {
      "text/html": [
       "<div>\n",
       "<style scoped>\n",
       "    .dataframe tbody tr th:only-of-type {\n",
       "        vertical-align: middle;\n",
       "    }\n",
       "\n",
       "    .dataframe tbody tr th {\n",
       "        vertical-align: top;\n",
       "    }\n",
       "\n",
       "    .dataframe thead th {\n",
       "        text-align: right;\n",
       "    }\n",
       "</style>\n",
       "<table border=\"1\" class=\"dataframe\">\n",
       "  <thead>\n",
       "    <tr style=\"text-align: right;\">\n",
       "      <th></th>\n",
       "      <th>Details</th>\n",
       "      <th>Name</th>\n",
       "    </tr>\n",
       "  </thead>\n",
       "  <tbody>\n",
       "    <tr>\n",
       "      <th>0</th>\n",
       "      <td>Audience: Product Deployment Employees (Energy...</td>\n",
       "      <td>EHS6029 Fall Protection Competent Person - Int...</td>\n",
       "    </tr>\n",
       "    <tr>\n",
       "      <th>1</th>\n",
       "      <td>Audience: Energy and SSD employees\\nDescriptio...</td>\n",
       "      <td>EHS6038 Fleet Safety - Introduction to Safe Dr...</td>\n",
       "    </tr>\n",
       "    <tr>\n",
       "      <th>2</th>\n",
       "      <td>Audience: Product Deployment Employees (Energy...</td>\n",
       "      <td>EHS6049 Gold Shovel Training</td>\n",
       "    </tr>\n",
       "    <tr>\n",
       "      <th>3</th>\n",
       "      <td>Audience: Product Deployment Employees (Energy...</td>\n",
       "      <td>EHS6051 Hammer Drills - Safety and Use</td>\n",
       "    </tr>\n",
       "    <tr>\n",
       "      <th>4</th>\n",
       "      <td>Audience: Product Deployment Employees (Energy...</td>\n",
       "      <td>EHS6052 Impact Driver Safety and Use</td>\n",
       "    </tr>\n",
       "    <tr>\n",
       "      <th>...</th>\n",
       "      <td>...</td>\n",
       "      <td>...</td>\n",
       "    </tr>\n",
       "    <tr>\n",
       "      <th>684</th>\n",
       "      <td>The Fremont Security Training Program is a com...</td>\n",
       "      <td>NaN</td>\n",
       "    </tr>\n",
       "    <tr>\n",
       "      <th>685</th>\n",
       "      <td>Description: This program is for Gigafactory N...</td>\n",
       "      <td>NaN</td>\n",
       "    </tr>\n",
       "    <tr>\n",
       "      <th>686</th>\n",
       "      <td>This is the practical exam required to become ...</td>\n",
       "      <td>EHS.03.TX.122 - NFPA 70E Practical Test</td>\n",
       "    </tr>\n",
       "    <tr>\n",
       "      <th>687</th>\n",
       "      <td>*Draft* This program contains the required tra...</td>\n",
       "      <td>NaN</td>\n",
       "    </tr>\n",
       "    <tr>\n",
       "      <th>688</th>\n",
       "      <td>This course will review Tesla's Hearing Protec...</td>\n",
       "      <td>EHS0015:  Hearing Conservation</td>\n",
       "    </tr>\n",
       "  </tbody>\n",
       "</table>\n",
       "<p>670 rows × 2 columns</p>\n",
       "</div>"
      ],
      "text/plain": [
       "                                               Details  \\\n",
       "0    Audience: Product Deployment Employees (Energy...   \n",
       "1    Audience: Energy and SSD employees\\nDescriptio...   \n",
       "2    Audience: Product Deployment Employees (Energy...   \n",
       "3    Audience: Product Deployment Employees (Energy...   \n",
       "4    Audience: Product Deployment Employees (Energy...   \n",
       "..                                                 ...   \n",
       "684  The Fremont Security Training Program is a com...   \n",
       "685  Description: This program is for Gigafactory N...   \n",
       "686  This is the practical exam required to become ...   \n",
       "687  *Draft* This program contains the required tra...   \n",
       "688  This course will review Tesla's Hearing Protec...   \n",
       "\n",
       "                                                  Name  \n",
       "0    EHS6029 Fall Protection Competent Person - Int...  \n",
       "1    EHS6038 Fleet Safety - Introduction to Safe Dr...  \n",
       "2                         EHS6049 Gold Shovel Training  \n",
       "3               EHS6051 Hammer Drills - Safety and Use  \n",
       "4                 EHS6052 Impact Driver Safety and Use  \n",
       "..                                                 ...  \n",
       "684                                                NaN  \n",
       "685                                                NaN  \n",
       "686            EHS.03.TX.122 - NFPA 70E Practical Test  \n",
       "687                                                NaN  \n",
       "688                     EHS0015:  Hearing Conservation  \n",
       "\n",
       "[670 rows x 2 columns]"
      ]
     },
     "execution_count": 23,
     "metadata": {},
     "output_type": "execute_result"
    }
   ],
   "source": [
    "dataframe[['Details', 'Name']]"
   ]
  },
  {
   "cell_type": "markdown",
   "metadata": {},
   "source": [
    "We can also *filter* our rows through a slicing method where the filter is applied inside the [] brackets. \n",
    "\n",
    "Here, we want all values of the dataframe where the Name is not NULL. "
   ]
  },
  {
   "cell_type": "code",
   "execution_count": 28,
   "metadata": {},
   "outputs": [
    {
     "data": {
      "text/html": [
       "<div>\n",
       "<style scoped>\n",
       "    .dataframe tbody tr th:only-of-type {\n",
       "        vertical-align: middle;\n",
       "    }\n",
       "\n",
       "    .dataframe tbody tr th {\n",
       "        vertical-align: top;\n",
       "    }\n",
       "\n",
       "    .dataframe thead th {\n",
       "        text-align: right;\n",
       "    }\n",
       "</style>\n",
       "<table border=\"1\" class=\"dataframe\">\n",
       "  <thead>\n",
       "    <tr style=\"text-align: right;\">\n",
       "      <th></th>\n",
       "      <th>Name</th>\n",
       "      <th>Time</th>\n",
       "      <th>Details</th>\n",
       "    </tr>\n",
       "  </thead>\n",
       "  <tbody>\n",
       "    <tr>\n",
       "      <th>0</th>\n",
       "      <td>EHS6029 Fall Protection Competent Person - Int...</td>\n",
       "      <td>2 hours</td>\n",
       "      <td>Audience: Product Deployment Employees (Energy...</td>\n",
       "    </tr>\n",
       "    <tr>\n",
       "      <th>1</th>\n",
       "      <td>EHS6038 Fleet Safety - Introduction to Safe Dr...</td>\n",
       "      <td>20 minutes</td>\n",
       "      <td>Audience: Energy and SSD employees\\nDescriptio...</td>\n",
       "    </tr>\n",
       "    <tr>\n",
       "      <th>2</th>\n",
       "      <td>EHS6049 Gold Shovel Training</td>\n",
       "      <td>20 minutes</td>\n",
       "      <td>Audience: Product Deployment Employees (Energy...</td>\n",
       "    </tr>\n",
       "    <tr>\n",
       "      <th>3</th>\n",
       "      <td>EHS6051 Hammer Drills - Safety and Use</td>\n",
       "      <td>10 minutes</td>\n",
       "      <td>Audience: Product Deployment Employees (Energy...</td>\n",
       "    </tr>\n",
       "    <tr>\n",
       "      <th>4</th>\n",
       "      <td>EHS6052 Impact Driver Safety and Use</td>\n",
       "      <td>10 minutes</td>\n",
       "      <td>Audience: Product Deployment Employees (Energy...</td>\n",
       "    </tr>\n",
       "    <tr>\n",
       "      <th>...</th>\n",
       "      <td>...</td>\n",
       "      <td>...</td>\n",
       "      <td>...</td>\n",
       "    </tr>\n",
       "    <tr>\n",
       "      <th>670</th>\n",
       "      <td>EHS.06.TX.111 - Emergency Action Plan (EAP)</td>\n",
       "      <td>45 minutes</td>\n",
       "      <td>Welcome to Tesla! The purpose of this training...</td>\n",
       "    </tr>\n",
       "    <tr>\n",
       "      <th>671</th>\n",
       "      <td>EHS.06.TX.115 - Scissor Lift Training</td>\n",
       "      <td>NaN</td>\n",
       "      <td>This instructor-led training is for learners a...</td>\n",
       "    </tr>\n",
       "    <tr>\n",
       "      <th>672</th>\n",
       "      <td>EHS.06.TX.116 - Aerial (Boom) Lift Training</td>\n",
       "      <td>NaN</td>\n",
       "      <td>This instructor-led training is for learners a...</td>\n",
       "    </tr>\n",
       "    <tr>\n",
       "      <th>686</th>\n",
       "      <td>EHS.03.TX.122 - NFPA 70E Practical Test</td>\n",
       "      <td>60 minutes</td>\n",
       "      <td>This is the practical exam required to become ...</td>\n",
       "    </tr>\n",
       "    <tr>\n",
       "      <th>688</th>\n",
       "      <td>EHS0015:  Hearing Conservation</td>\n",
       "      <td>20 minutes</td>\n",
       "      <td>This course will review Tesla's Hearing Protec...</td>\n",
       "    </tr>\n",
       "  </tbody>\n",
       "</table>\n",
       "<p>613 rows × 3 columns</p>\n",
       "</div>"
      ],
      "text/plain": [
       "                                                  Name        Time  \\\n",
       "0    EHS6029 Fall Protection Competent Person - Int...     2 hours   \n",
       "1    EHS6038 Fleet Safety - Introduction to Safe Dr...  20 minutes   \n",
       "2                         EHS6049 Gold Shovel Training  20 minutes   \n",
       "3               EHS6051 Hammer Drills - Safety and Use  10 minutes   \n",
       "4                 EHS6052 Impact Driver Safety and Use  10 minutes   \n",
       "..                                                 ...         ...   \n",
       "670        EHS.06.TX.111 - Emergency Action Plan (EAP)  45 minutes   \n",
       "671              EHS.06.TX.115 - Scissor Lift Training         NaN   \n",
       "672        EHS.06.TX.116 - Aerial (Boom) Lift Training         NaN   \n",
       "686            EHS.03.TX.122 - NFPA 70E Practical Test  60 minutes   \n",
       "688                     EHS0015:  Hearing Conservation  20 minutes   \n",
       "\n",
       "                                               Details  \n",
       "0    Audience: Product Deployment Employees (Energy...  \n",
       "1    Audience: Energy and SSD employees\\nDescriptio...  \n",
       "2    Audience: Product Deployment Employees (Energy...  \n",
       "3    Audience: Product Deployment Employees (Energy...  \n",
       "4    Audience: Product Deployment Employees (Energy...  \n",
       "..                                                 ...  \n",
       "670  Welcome to Tesla! The purpose of this training...  \n",
       "671  This instructor-led training is for learners a...  \n",
       "672  This instructor-led training is for learners a...  \n",
       "686  This is the practical exam required to become ...  \n",
       "688  This course will review Tesla's Hearing Protec...  \n",
       "\n",
       "[613 rows x 3 columns]"
      ]
     },
     "execution_count": 28,
     "metadata": {},
     "output_type": "execute_result"
    }
   ],
   "source": [
    "No_Blanks = dataframe[dataframe['Name'].notna()]\n",
    "No_Blanks"
   ]
  },
  {
   "cell_type": "markdown",
   "metadata": {},
   "source": [
    "Similary, we can apply filters for checking the that values are ==, !=, >, and other comparable methods. "
   ]
  },
  {
   "cell_type": "markdown",
   "metadata": {},
   "source": [
    "To get rows, we can call the `DataFrame.loc[]` or `DataFrame.iloc[]` operators. \n",
    "\n",
    "#### 6.3.1 Example\n",
    "Problem Statment: Get the descriptions of all EHS Courses that are asssociated to Texas. "
   ]
  },
  {
   "cell_type": "markdown",
   "metadata": {},
   "source": [
    "#### Solution:"
   ]
  },
  {
   "cell_type": "code",
   "execution_count": 35,
   "metadata": {},
   "outputs": [
    {
     "data": {
      "text/plain": [
       "523    Welcome to Tesla Contractor Safety. This train...\n",
       "538    This Instructor-Led course is for Giga Factory...\n",
       "545    This instructor-led training is for learners a...\n",
       "553    This instructor-led training is required for G...\n",
       "589    This course is designed to provide a general a...\n",
       "595    EHS instructors will use this instructor-led t...\n",
       "641    In this course the learner will learn the role...\n",
       "642    In this course the learner will learn the role...\n",
       "643    In this course the learner will learn the role...\n",
       "644    Course provides the appropriate learner at GF ...\n",
       "647    This site safety orientation is for new hire e...\n",
       "648    This instructor-led training provides the trai...\n",
       "649    This Instructor-Led course is for GF Texas emp...\n",
       "655    This instructor-led course is for GF Texas emp...\n",
       "656    This instructor-led course is for GF Texas emp...\n",
       "666    The purpose of this training is to provide you...\n",
       "667    This instructor-led training is for learners a...\n",
       "668    This instructor-led training is for learners a...\n",
       "669    This instructor-led training is for learners a...\n",
       "670    Welcome to Tesla! The purpose of this training...\n",
       "671    This instructor-led training is for learners a...\n",
       "672    This instructor-led training is for learners a...\n",
       "686    This is the practical exam required to become ...\n",
       "Name: Details, dtype: object"
      ]
     },
     "execution_count": 35,
     "metadata": {},
     "output_type": "execute_result"
    }
   ],
   "source": [
    "#loc operator slices, similar to the square brackets\n",
    "#Series.str.contains() is a method to check if the string contains the string we pass in, in this case \"TX\" for Texas\n",
    "#We only want the details of these courses, so we pass that column name in as a second argument to loc[]\n",
    "EHS_TX_Course_Descriptions = No_Blanks.loc[No_Blanks['Name'].str.contains(\"TX\"), \"Details\"]\n",
    "EHS_TX_Course_Descriptions"
   ]
  },
  {
   "cell_type": "markdown",
   "metadata": {},
   "source": [
    "### 6.3.2 Try It Out!\n",
    "#### Problem Stament: Find the names of all EHS Courses that have a duration 1 hour or less. \n",
    "*Hint: You may want to use the [Series.str.split](https://pandas.pydata.org/docs/reference/api/pandas.Series.str.split.html) function to split the Duration column into integer values and units. Pass in expand=True*"
   ]
  },
  {
   "cell_type": "code",
   "execution_count": 39,
   "metadata": {},
   "outputs": [
    {
     "data": {
      "text/plain": [
       "'FILL ME IN'"
      ]
     },
     "execution_count": 39,
     "metadata": {},
     "output_type": "execute_result"
    }
   ],
   "source": [
    "## YOUR ATTEMPT \n",
    "\n",
    "EHS_Courses_Under_OneHour = \"FILL ME IN\" #TODO\n",
    "EHS_Courses_Under_OneHour"
   ]
  },
  {
   "cell_type": "markdown",
   "metadata": {},
   "source": [
    "#################################################################################################################################################\n"
   ]
  },
  {
   "cell_type": "markdown",
   "metadata": {},
   "source": [
    "## 7. Error Checking"
   ]
  },
  {
   "cell_type": "markdown",
   "metadata": {},
   "source": [
    "Why is error checking important?\n",
    "\n",
    "\n",
    "Rather than running a sript for 3 hours just to see it fail somewhere down the line and wonder why... \n",
    "\n",
    "we can handle errors by checking for specific cases. This often requires some insight or foreshadowing of what the user could've done to cause an error in the code (i.e. passing in the wrong thing as arguments or files)\n",
    "\n",
    "The more specific error messages are written, the more it helps debug code. \n",
    "\n",
    "*Best practice: think of edge cases as a block of code is written, and add some error checking at that stage.*\n",
    "\n",
    "\n",
    "Topics:\n",
    "- try / except clauses\n",
    "- assert statements\n",
    "- conditional clauses with print statements\n",
    "- throwing an error or exception\n",
    "\n"
   ]
  },
  {
   "cell_type": "markdown",
   "metadata": {},
   "source": [
    "### 7.1 Try / Except"
   ]
  },
  {
   "cell_type": "markdown",
   "metadata": {},
   "source": [
    "There are 4 pieces to the Python Try Except:\n",
    "1. `try` is to test some code for errors.\n",
    "2. `except` is to handle the error.\n",
    "3. `else` is to run code that doesn't error. \n",
    "4. `finally` is to run code outside of the try / except. "
   ]
  },
  {
   "cell_type": "code",
   "execution_count": 1,
   "metadata": {},
   "outputs": [
    {
     "name": "stdout",
     "output_type": "stream",
     "text": [
      "An exception occurred, variable not defined.\n"
     ]
    }
   ],
   "source": [
    "try:\n",
    "    print(magic)\n",
    "except:\n",
    "    print(\"An exception occurred, variable not defined.\")"
   ]
  },
  {
   "cell_type": "code",
   "execution_count": 3,
   "metadata": {},
   "outputs": [
    {
     "name": "stdout",
     "output_type": "stream",
     "text": [
      "Potion is not defined\n",
      "Snake Juice is yummy\n"
     ]
    }
   ],
   "source": [
    "try:\n",
    "    print(potion)\n",
    "except NameError:\n",
    "    print(\"Potion is not defined\")\n",
    "except:\n",
    "    print(\"An exception occurred, the variable is defined though.\")\n",
    "finally:\n",
    "    print(\"Snake Juice is yummy\")"
   ]
  },
  {
   "cell_type": "code",
   "execution_count": 4,
   "metadata": {},
   "outputs": [
    {
     "name": "stdout",
     "output_type": "stream",
     "text": [
      "18.9\n",
      "Snake Juice is yummy\n"
     ]
    }
   ],
   "source": [
    "potion = 18.9\n",
    "try:\n",
    "    print(potion)\n",
    "except NameError:\n",
    "    print(\"Potion is not defined\")\n",
    "except:\n",
    "    print(\"An exception occurred, the variable is defined though.\")\n",
    "finally:\n",
    "    print(\"Snake Juice is yummy\")"
   ]
  },
  {
   "cell_type": "markdown",
   "metadata": {},
   "source": [
    "### 7.1.1 Example\n",
    "\n",
    "This clause is stolen from TrainingMatrix / py / TrainingMatrix_NewData.py\n",
    "\n",
    "What does this clause do?"
   ]
  },
  {
   "cell_type": "code",
   "execution_count": 7,
   "metadata": {},
   "outputs": [
    {
     "ename": "NameError",
     "evalue": "name 'p' is not defined",
     "output_type": "error",
     "traceback": [
      "\u001b[1;31m---------------------------------------------------------------------------\u001b[0m",
      "\u001b[1;31mNameError\u001b[0m                                 Traceback (most recent call last)",
      "\u001b[1;32mc:\\Users\\hhalabieh\\Hogwarts_Slytherin.ipynb Cell 92\u001b[0m in \u001b[0;36m<cell line: 1>\u001b[1;34m()\u001b[0m\n\u001b[1;32m----> <a href='vscode-notebook-cell:/c%3A/Users/hhalabieh/Hogwarts_Slytherin.ipynb#Y210sZmlsZQ%3D%3D?line=0'>1</a>\u001b[0m potion \u001b[39m=\u001b[39m p\n\u001b[0;32m      <a href='vscode-notebook-cell:/c%3A/Users/hhalabieh/Hogwarts_Slytherin.ipynb#Y210sZmlsZQ%3D%3D?line=1'>2</a>\u001b[0m \u001b[39mtry\u001b[39;00m:\n\u001b[0;32m      <a href='vscode-notebook-cell:/c%3A/Users/hhalabieh/Hogwarts_Slytherin.ipynb#Y210sZmlsZQ%3D%3D?line=2'>3</a>\u001b[0m     \u001b[39mprint\u001b[39m(potion)\n",
      "\u001b[1;31mNameError\u001b[0m: name 'p' is not defined"
     ]
    }
   ],
   "source": [
    "try:\n",
    "    print (\"Now saving learner dataframe to csv... | timestamp: \" + str(datetime.now()))   \n",
    "    df_learners.to_csv(utils.lihim.path_trainingmatrix_csv + 'df_output.csv', sep='\\t', encoding='utf-8')        \n",
    "    sqlPush(df_learners, 't_pr_ds30112_TrainingMatrix')\n",
    "    print ( + ' SUCCESS : Training Matrix generated! | timestamp: ' + str(datetime.now()))    \n",
    "except:\n",
    "    err = sys.exc_info()[0]\n",
    "    print (str(datetime.now()) + ' : ' + str(err))    \n",
    "\n",
    "finally:\n",
    "    sql_conn.close()"
   ]
  },
  {
   "cell_type": "markdown",
   "metadata": {},
   "source": [
    "### 7.2 Assert Statements"
   ]
  },
  {
   "cell_type": "markdown",
   "metadata": {},
   "source": [
    "`assert` statement are for ensuring that a certain condition is always true, otherwise the code will eror. \n",
    "\n",
    "The program will stop running if the `assert` condition is not met, and throw an `AssertionError`"
   ]
  },
  {
   "cell_type": "code",
   "execution_count": 10,
   "metadata": {},
   "outputs": [],
   "source": [
    "assert type(potion) == float, \"Potion value must be of type float.\""
   ]
  },
  {
   "cell_type": "code",
   "execution_count": 11,
   "metadata": {},
   "outputs": [
    {
     "ename": "AssertionError",
     "evalue": "Potion value must be of type float.",
     "output_type": "error",
     "traceback": [
      "\u001b[1;31m---------------------------------------------------------------------------\u001b[0m",
      "\u001b[1;31mAssertionError\u001b[0m                            Traceback (most recent call last)",
      "\u001b[1;32mc:\\Users\\hhalabieh\\Hogwarts_Slytherin.ipynb Cell 97\u001b[0m in \u001b[0;36m<cell line: 2>\u001b[1;34m()\u001b[0m\n\u001b[0;32m      <a href='vscode-notebook-cell:/c%3A/Users/hhalabieh/Hogwarts_Slytherin.ipynb#Y215sZmlsZQ%3D%3D?line=0'>1</a>\u001b[0m potion \u001b[39m=\u001b[39m \u001b[39m\"\u001b[39m\u001b[39mSnake Juice\u001b[39m\u001b[39m\"\u001b[39m\n\u001b[1;32m----> <a href='vscode-notebook-cell:/c%3A/Users/hhalabieh/Hogwarts_Slytherin.ipynb#Y215sZmlsZQ%3D%3D?line=1'>2</a>\u001b[0m \u001b[39massert\u001b[39;00m \u001b[39mtype\u001b[39m(potion) \u001b[39m==\u001b[39m \u001b[39mfloat\u001b[39m, \u001b[39m\"\u001b[39m\u001b[39mPotion value must be of type float.\u001b[39m\u001b[39m\"\u001b[39m\n",
      "\u001b[1;31mAssertionError\u001b[0m: Potion value must be of type float."
     ]
    }
   ],
   "source": [
    "potion = \"Snake Juice\"\n",
    "assert type(potion) == float, \"Potion value must be of type float.\""
   ]
  },
  {
   "cell_type": "markdown",
   "metadata": {},
   "source": [
    "Assert statements can be extremely useful in checking the parameters of a function. \n",
    "\n",
    "We can check that the data types match what is needed to execute the code block (like above).\n",
    "It is also helpful to make sure the inputs are / aren't empty, that the return value is / isn't empty, and any other errors that could arise. "
   ]
  },
  {
   "cell_type": "markdown",
   "metadata": {},
   "source": [
    "### 7.2.1 Example"
   ]
  },
  {
   "cell_type": "code",
   "execution_count": 13,
   "metadata": {},
   "outputs": [
    {
     "ename": "AssertionError",
     "evalue": "Cannot divide by 0",
     "output_type": "error",
     "traceback": [
      "\u001b[1;31m---------------------------------------------------------------------------\u001b[0m",
      "\u001b[1;31mAssertionError\u001b[0m                            Traceback (most recent call last)",
      "\u001b[1;32mc:\\Users\\hhalabieh\\Hogwarts_Slytherin.ipynb Cell 99\u001b[0m in \u001b[0;36m<cell line: 6>\u001b[1;34m()\u001b[0m\n\u001b[0;32m      <a href='vscode-notebook-cell:/c%3A/Users/hhalabieh/Hogwarts_Slytherin.ipynb#Y216sZmlsZQ%3D%3D?line=2'>3</a>\u001b[0m     \u001b[39mreturn\u001b[39;00m (numerator \u001b[39m/\u001b[39m denominator)\n\u001b[0;32m      <a href='vscode-notebook-cell:/c%3A/Users/hhalabieh/Hogwarts_Slytherin.ipynb#Y216sZmlsZQ%3D%3D?line=4'>5</a>\u001b[0m fraction1 \u001b[39m=\u001b[39m fraction(\u001b[39m2\u001b[39m, \u001b[39m10\u001b[39m)\n\u001b[1;32m----> <a href='vscode-notebook-cell:/c%3A/Users/hhalabieh/Hogwarts_Slytherin.ipynb#Y216sZmlsZQ%3D%3D?line=5'>6</a>\u001b[0m fraction2 \u001b[39m=\u001b[39m fraction(\u001b[39m9\u001b[39;49m, \u001b[39m0\u001b[39;49m)\n\u001b[0;32m      <a href='vscode-notebook-cell:/c%3A/Users/hhalabieh/Hogwarts_Slytherin.ipynb#Y216sZmlsZQ%3D%3D?line=6'>7</a>\u001b[0m \u001b[39mprint\u001b[39m(fraction1, fraction2)\n",
      "\u001b[1;32mc:\\Users\\hhalabieh\\Hogwarts_Slytherin.ipynb Cell 99\u001b[0m in \u001b[0;36mfraction\u001b[1;34m(numerator, denominator)\u001b[0m\n\u001b[0;32m      <a href='vscode-notebook-cell:/c%3A/Users/hhalabieh/Hogwarts_Slytherin.ipynb#Y216sZmlsZQ%3D%3D?line=0'>1</a>\u001b[0m \u001b[39mdef\u001b[39;00m \u001b[39mfraction\u001b[39m(numerator, denominator):\n\u001b[1;32m----> <a href='vscode-notebook-cell:/c%3A/Users/hhalabieh/Hogwarts_Slytherin.ipynb#Y216sZmlsZQ%3D%3D?line=1'>2</a>\u001b[0m     \u001b[39massert\u001b[39;00m denominator \u001b[39m!=\u001b[39m \u001b[39m0\u001b[39m, \u001b[39m\"\u001b[39m\u001b[39mCannot divide by 0\u001b[39m\u001b[39m\"\u001b[39m\n\u001b[0;32m      <a href='vscode-notebook-cell:/c%3A/Users/hhalabieh/Hogwarts_Slytherin.ipynb#Y216sZmlsZQ%3D%3D?line=2'>3</a>\u001b[0m     \u001b[39mreturn\u001b[39;00m (numerator \u001b[39m/\u001b[39m denominator)\n",
      "\u001b[1;31mAssertionError\u001b[0m: Cannot divide by 0"
     ]
    }
   ],
   "source": [
    "def fraction(numerator, denominator):\n",
    "    assert denominator != 0, \"Cannot divide by 0\"\n",
    "    return (numerator / denominator)\n",
    "\n",
    "fraction1 = fraction(2, 10)\n",
    "fraction2 = fraction(9, 0)\n",
    "print(fraction1, fraction2)"
   ]
  },
  {
   "cell_type": "markdown",
   "metadata": {},
   "source": [
    "### 7.3 Conditionals\n",
    "\n",
    "We can use `if` statements to make sure our condition is met, and then print an error otherwise. "
   ]
  },
  {
   "cell_type": "code",
   "execution_count": 21,
   "metadata": {},
   "outputs": [
    {
     "name": "stdout",
     "output_type": "stream",
     "text": [
      "quidditch was initialized properly!\n"
     ]
    }
   ],
   "source": [
    "quidditch = {\"Type\":\"Sport\", \"Tool\":\"Broomstick\", \"Location\":\"Hogwarts\"}\n",
    "\n",
    "if type(quidditch) != dict:\n",
    "    print(\"quidditch must be a dictionary\")\n",
    "else:\n",
    "    print(\"quidditch was initialized properly!\")"
   ]
  },
  {
   "cell_type": "code",
   "execution_count": 20,
   "metadata": {},
   "outputs": [
    {
     "name": "stdout",
     "output_type": "stream",
     "text": [
      "quidditch must be a dictionary\n"
     ]
    }
   ],
   "source": [
    "quidditch = 10\n",
    "\n",
    "if type(quidditch) != dict:\n",
    "    print(\"quidditch must be a dictionary\")\n",
    "else:\n",
    "    print(\"quidditch was initialized properly!\")"
   ]
  },
  {
   "cell_type": "markdown",
   "metadata": {},
   "source": [
    "### 7.4 Raise Exceptions"
   ]
  },
  {
   "cell_type": "markdown",
   "metadata": {},
   "source": [
    "If you are to raise an Exception, be specific with the error caught. \n",
    "\n",
    "i.e. What kind of error are you throwing?\n",
    "\n",
    "`TypeError` corresponds to incompatible data type operations or checking the data type. \n",
    "\n",
    "`ValueError` corresponds to the right type but wrong value. \n",
    "\n",
    "More can be found [here](https://docs.python.org/3/library/exceptions.html)"
   ]
  },
  {
   "cell_type": "code",
   "execution_count": 27,
   "metadata": {},
   "outputs": [
    {
     "ename": "TypeError",
     "evalue": "Players was not passed in as a numeric type.",
     "output_type": "error",
     "traceback": [
      "\u001b[1;31m---------------------------------------------------------------------------\u001b[0m",
      "\u001b[1;31mTypeError\u001b[0m                                 Traceback (most recent call last)",
      "\u001b[1;32mc:\\Users\\hhalabieh\\Hogwarts_Slytherin.ipynb Cell 105\u001b[0m in \u001b[0;36m<cell line: 3>\u001b[1;34m()\u001b[0m\n\u001b[0;32m      <a href='vscode-notebook-cell:/c%3A/Users/hhalabieh/Hogwarts_Slytherin.ipynb#Y232sZmlsZQ%3D%3D?line=0'>1</a>\u001b[0m players \u001b[39m=\u001b[39m \u001b[39m\"\u001b[39m\u001b[39mme\u001b[39m\u001b[39m\"\u001b[39m\n\u001b[0;32m      <a href='vscode-notebook-cell:/c%3A/Users/hhalabieh/Hogwarts_Slytherin.ipynb#Y232sZmlsZQ%3D%3D?line=2'>3</a>\u001b[0m \u001b[39mif\u001b[39;00m \u001b[39mtype\u001b[39m(players) \u001b[39m!=\u001b[39m \u001b[39mint\u001b[39m \u001b[39mor\u001b[39;00m \u001b[39mtype\u001b[39m(players) \u001b[39m!=\u001b[39m \u001b[39mfloat\u001b[39m:\n\u001b[1;32m----> <a href='vscode-notebook-cell:/c%3A/Users/hhalabieh/Hogwarts_Slytherin.ipynb#Y232sZmlsZQ%3D%3D?line=3'>4</a>\u001b[0m     \u001b[39mraise\u001b[39;00m \u001b[39mTypeError\u001b[39;00m(\u001b[39m\"\u001b[39m\u001b[39mPlayers was not passed in as a numeric type.\u001b[39m\u001b[39m\"\u001b[39m)\n",
      "\u001b[1;31mTypeError\u001b[0m: Players was not passed in as a numeric type."
     ]
    }
   ],
   "source": [
    "players = \"me\"\n",
    "\n",
    "if type(players) != int or type(players) != float:\n",
    "    raise TypeError(\"Players was not passed in as a numeric type.\")"
   ]
  },
  {
   "cell_type": "markdown",
   "metadata": {},
   "source": [
    "### 7.5 Example\n",
    "\n",
    "This example is two functions for when AQI data was migrated from a csv to the Wizards SQL Server. In order to do this, I defined functions that establish a connection to the sql server `create_connection` and a function that creates a table in the sql server `create_table_sqlsever`\n",
    "\n",
    "There are examples of `assert` statements, `raise Exception` and `try`, `except` clauses. "
   ]
  },
  {
   "cell_type": "code",
   "execution_count": null,
   "metadata": {},
   "outputs": [],
   "source": [
    "import pyodbc\n",
    "\n",
    "def create_connection(driver_name, server_name, database):\n",
    "    assert len(driver_name) > 0 and len(server_name) > 0 and len(database) > 0, \"At least one parameter passed in is empty.\"\n",
    "    conn = pyodbc.connect('Driver={' + driver_name + '};'\n",
    "                      'Server=' + server_name + ';'\n",
    "                      'Database=' + database + ';'\n",
    "                      'Trusted_Connection=yes;')\n",
    "    cursor = conn.cursor()\n",
    "\n",
    "def create_table_sqlserver(table_name, column_names, column_datatypes):\n",
    "    format_text = []\n",
    "    \n",
    "    if (len(column_names) != len(column_datatypes)):\n",
    "        raise Exception(\"Every column needs a corresponding datatype\")\n",
    "    \n",
    "    for i in np.range(len(column_names)-1):\n",
    "        format_text.append('\\n' + column_name[i] + ' ' + column_datatypes[i] + ',')\n",
    "    format_text.append('\\n' + column_name[len(column_names)] + ' ' + column_datatypes[len(column_names)])\n",
    "    \n",
    "    try:\n",
    "        cursor.execute('''\n",
    "            CREATE TABLE''' + table_name + ''' ( ''' +\n",
    "            format_text + ''' )\n",
    "            ''')\n",
    "    except:\n",
    "        print(\"An error occurred, the table: \" + table_name + \" was not created in the server.\")\n",
    "    \n",
    "    "
   ]
  },
  {
   "cell_type": "markdown",
   "metadata": {},
   "source": [
    "#################################################################################################################################################\n"
   ]
  },
  {
   "cell_type": "markdown",
   "metadata": {},
   "source": [
    "## 8. Solutions"
   ]
  },
  {
   "cell_type": "markdown",
   "metadata": {},
   "source": [
    "### 4.1 Solution"
   ]
  },
  {
   "cell_type": "markdown",
   "metadata": {},
   "source": [
    "Checks if a fraction divides evenly by using the modulo \"%\" operator"
   ]
  },
  {
   "cell_type": "code",
   "execution_count": 7,
   "metadata": {},
   "outputs": [],
   "source": [
    "def divisible_by_three(numerator, denominator):\n",
    "    remainder = numerator % denominator\n",
    "    if remainder == 0:\n",
    "        print(\"Divides evenly!\")\n",
    "    else:\n",
    "        print(\"Not divisible by :(, remainder is \" + str(remainder))"
   ]
  },
  {
   "cell_type": "markdown",
   "metadata": {},
   "source": [
    "### 5.3 Solution\n",
    "For loop solution:"
   ]
  },
  {
   "cell_type": "code",
   "execution_count": 78,
   "metadata": {},
   "outputs": [
    {
     "name": "stdout",
     "output_type": "stream",
     "text": [
      "1: odd\n",
      "2: even\n",
      "3: odd\n",
      "4: even\n",
      "5: odd\n",
      "6: even\n",
      "7: odd\n",
      "8: even\n",
      "9: odd\n",
      "10: even\n",
      "11: odd\n",
      "12: even\n",
      "13: odd\n",
      "14: even\n",
      "15: odd\n",
      "16: even\n",
      "17: odd\n",
      "18: even\n",
      "19: odd\n",
      "20: even\n"
     ]
    }
   ],
   "source": [
    "for i in np.arange(21):\n",
    "    if (i != 0):\n",
    "        if (i % 2) == 0:\n",
    "            print(str(i) + \": even\")\n",
    "        else:\n",
    "            print(str(i) + ': odd')"
   ]
  },
  {
   "cell_type": "markdown",
   "metadata": {},
   "source": [
    "While loop solution:"
   ]
  },
  {
   "cell_type": "code",
   "execution_count": 76,
   "metadata": {},
   "outputs": [
    {
     "name": "stdout",
     "output_type": "stream",
     "text": [
      "1: odd\n",
      "2: even\n",
      "3: odd\n",
      "4: even\n",
      "5: odd\n",
      "6: even\n",
      "7: odd\n",
      "8: even\n",
      "9: odd\n",
      "10: even\n",
      "11: odd\n",
      "12: even\n",
      "13: odd\n",
      "14: even\n",
      "15: odd\n",
      "16: even\n",
      "17: odd\n",
      "18: even\n",
      "19: odd\n",
      "20: even\n"
     ]
    }
   ],
   "source": [
    "i = 1\n",
    "while i < 21:\n",
    "    if (i % 2) == 0:\n",
    "        print(str(i) + \": even\")\n",
    "    else:\n",
    "        print(str(i) + ': odd')\n",
    "    i += 1"
   ]
  },
  {
   "cell_type": "markdown",
   "metadata": {},
   "source": [
    "### 6.3.2 Solution"
   ]
  },
  {
   "cell_type": "markdown",
   "metadata": {},
   "source": [
    "Run the cell below to see if your solution, assigned to `EHS_Courses_Under_OneHour` matches the final solution!"
   ]
  },
  {
   "cell_type": "code",
   "execution_count": 70,
   "metadata": {},
   "outputs": [
    {
     "name": "stdout",
     "output_type": "stream",
     "text": [
      "Not quite, walk back through your steps or check out the solution below. Note: Null course names were removed from the final solution.\n"
     ]
    }
   ],
   "source": [
    "#Answer Check\n",
    "\n",
    "if final_solution.all() == EHS_Courses_Under_OneHour:\n",
    "    print(\"Great Work! You got the right answer.\")\n",
    "else:\n",
    "    print(\"Not quite, walk back through your steps or check out the solution below. Note: Null course names were removed from the final solution.\")"
   ]
  },
  {
   "cell_type": "code",
   "execution_count": 66,
   "metadata": {},
   "outputs": [
    {
     "data": {
      "text/plain": [
       "1      EHS6038 Fleet Safety - Introduction to Safe Dr...\n",
       "2                           EHS6049 Gold Shovel Training\n",
       "3                 EHS6051 Hammer Drills - Safety and Use\n",
       "4                   EHS6052 Impact Driver Safety and Use\n",
       "5                 EHS6054 Job Site Emergency Action Plan\n",
       "                             ...                        \n",
       "594    EHS.01.BA.214 - Hazardous Waste Streams Manage...\n",
       "595    EHS.06.TX.121 - EHS Training Acknowledgement f...\n",
       "666    EHS.05.TX.110 - Paint Process Safety Managemen...\n",
       "670          EHS.06.TX.111 - Emergency Action Plan (EAP)\n",
       "688                       EHS0015:  Hearing Conservation\n",
       "Name: Name, Length: 384, dtype: object"
      ]
     },
     "execution_count": 66,
     "metadata": {},
     "output_type": "execute_result"
    }
   ],
   "source": [
    "#Problem 1: Solution\n",
    "\n",
    "dataframe[['Time1', 'Unit1', 'Time2', 'Unit2']] = dataframe['Time'].str.split(\" \", expand=True)\n",
    "solution = dataframe[dataframe['Unit1'] == 'minutes']\n",
    "short_courses = solution[pd.to_numeric(solution['Time1']) < 60]\n",
    "final_solution = short_courses[short_courses['Name'].notna()]['Name']\n",
    "final_solution"
   ]
  },
  {
   "cell_type": "markdown",
   "metadata": {},
   "source": [
    "##################################################################################################################################################################"
   ]
  },
  {
   "cell_type": "markdown",
   "metadata": {},
   "source": [
    "Thanks for coming along! Hope you learned some fun Python. \n",
    "\n",
    "author: @hayahalabieh"
   ]
  }
 ],
 "metadata": {
  "kernelspec": {
   "display_name": "Python 3.9.12 ('base')",
   "language": "python",
   "name": "python3"
  },
  "language_info": {
   "codemirror_mode": {
    "name": "ipython",
    "version": 3
   },
   "file_extension": ".py",
   "mimetype": "text/x-python",
   "name": "python",
   "nbconvert_exporter": "python",
   "pygments_lexer": "ipython3",
   "version": "3.9.12"
  },
  "orig_nbformat": 4,
  "vscode": {
   "interpreter": {
    "hash": "62eaf0967e57fc27937e4fba2e5ff8a8c48118aaa21290068a641422be1f8935"
   }
  }
 },
 "nbformat": 4,
 "nbformat_minor": 2
}
