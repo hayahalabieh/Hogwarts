{
 "cells": [
  {
   "cell_type": "markdown",
   "metadata": {},
   "source": [
    "# Hogwarts School of Data Wizardry\n",
    "## Session 3: Python <-> SQL Server\n",
    "`Ravenclaw`  |   [GitHub](https://github.tesla.com/EHSS/Hogwarts) | [Documentation](https://confluence.teslamotors.com/display/EHSSST/Hogwarts+School+of+Data+Wizardry)"
   ]
  },
  {
   "cell_type": "markdown",
   "metadata": {},
   "source": [
    "#####################################################################################################################################################################\n",
    "#####################################################################################################################################################################\n"
   ]
  },
  {
   "cell_type": "markdown",
   "metadata": {},
   "source": [
    "## Table of Contents:\n",
    "### [1. Using pyodbc](#1-using-pyodbc)\n",
    "- [1.1 What is pyodbc?](#11-what-is-pyodbc)\n",
    "- [1.2 pyodbc Automated Functions](#12-defining-pyodbc-automated-functions)\n",
    "### [2. Using sqlalchemy](#2-sql-alchemy)\n"
   ]
  },
  {
   "cell_type": "markdown",
   "metadata": {},
   "source": [
    "#####################################################################################################################################################################\n",
    "#####################################################################################################################################################################"
   ]
  },
  {
   "cell_type": "markdown",
   "metadata": {},
   "source": [
    "## 1. Using pyodbc"
   ]
  },
  {
   "cell_type": "markdown",
   "metadata": {},
   "source": [
    "### 1.1 What is pyodbc?"
   ]
  },
  {
   "cell_type": "markdown",
   "metadata": {},
   "source": [
    "`pyodbc` is a python package that establishes a connection to database servers. \n",
    "\n",
    "Our use case: SQL Sever\n",
    "\n",
    "Limitations:\n"
   ]
  },
  {
   "cell_type": "code",
   "execution_count": null,
   "metadata": {},
   "outputs": [],
   "source": [
    "import pyodbc\n",
    "import uuid"
   ]
  },
  {
   "cell_type": "code",
   "execution_count": null,
   "metadata": {},
   "outputs": [],
   "source": [
    "#location of table\n",
    "wizards_server = 'sjc04ihsprddb.teslamotors.com'\n",
    "AQIdatabase = 'dAQI'\n",
    "CIMSdatabase = 'dCIMS'\n",
    "DMdatabase = 'dDomainModel'\n",
    "\n",
    "\n",
    "\n",
    "#Fill in database name\n",
    "mydatabase = \"...\""
   ]
  },
  {
   "cell_type": "markdown",
   "metadata": {},
   "source": [
    "### 1.2 Defining pyodbc automated functions"
   ]
  },
  {
   "cell_type": "markdown",
   "metadata": {},
   "source": [
    "Below are functions written to generalize the process of connecting to SQL Server using pyodbc. \n"
   ]
  },
  {
   "cell_type": "markdown",
   "metadata": {},
   "source": [
    "#### 1.2.1 Creating a connection\n",
    "The first step of connecting to SQL Server is establishing a connection, given a `driver_name`, `server_name`, and `database`\n"
   ]
  },
  {
   "cell_type": "code",
   "execution_count": null,
   "metadata": {},
   "outputs": [],
   "source": [
    "def create_connection(driver_name, server_name, database):\n",
    "    conn = pyodbc.connect('Driver={' + driver_name + '};'\n",
    "                      'Server=' + server_name + ';'\n",
    "                      'Database=' + database + ';'\n",
    "                      'Trusted_Connection=yes;')\n",
    "    cursor = conn.cursor()\n",
    "    return conn, cursor"
   ]
  },
  {
   "cell_type": "markdown",
   "metadata": {},
   "source": [
    "The return values of the function must be assigned to variables, to later be called upon in the following functions. "
   ]
  },
  {
   "cell_type": "code",
   "execution_count": null,
   "metadata": {},
   "outputs": [],
   "source": [
    "#FILL ME IN\n",
    "\n",
    "driver = \"\"\n",
    "server = \"\"\n",
    "database = \"\"\n",
    "conn, cursor = create_connection(driver, server, database)"
   ]
  },
  {
   "cell_type": "markdown",
   "metadata": {},
   "source": [
    "### 1.2.2 Creating a table in SQL Server\n",
    "Though we can automate this process given the following python function, our current Data Wizard preferred strategy is to make a table given a SQL script. Please refer to the [scripts](https://github.tesla.com/EHSS/CIMS/blob/main/sql/Chemical%20Inventory%20Creation.sql) in the [CIMS repo](https://github.tesla.com/EHSS/CIMS) as examples. \n",
    "\n",
    "This function takes in `table_name`, `column_names` as a list, `column_datatypes` as a list of [SQL datatypes](https://www.w3schools.com/sql/sql_datatypes.asp) and creates a table in the connected server and database (from the step above). \n",
    "\n",
    "You can verify the table was made by scripting a SELECT statement for the `table_name`"
   ]
  },
  {
   "cell_type": "code",
   "execution_count": null,
   "metadata": {},
   "outputs": [],
   "source": [
    "def create_table_sqlserver(table_name, column_names, column_datatypes):\n",
    "    format_text = []\n",
    "    \n",
    "    if (len(column_names) != len(column_datatypes)):\n",
    "        raise Exception(\"Every column needs a corresponding datatype\")\n",
    "    \n",
    "    for i in np.range(len(column_names)-1):\n",
    "        format_text.append('\\n' + column_name[i] + ' ' + column_datatypes[i] + ',')\n",
    "    format_text.append('\\n' + column_name[len(column_names)] + ' ' + column_datatypes[len(column_names)])\n",
    "    \n",
    "    cursor.execute('''\n",
    "        CREATE TABLE''' + table_name + ''' ( ''' +\n",
    "            format_text + ''' )\n",
    "            ''')\n",
    "    "
   ]
  },
  {
   "cell_type": "markdown",
   "metadata": {},
   "source": [
    "### 1.2.3 Loading data to SQL Server\n",
    "\n",
    "Once data is loaded into a dataframe, and so long as the columns match up, the data can be loaded into the SQL Server table.\n",
    "\n",
    "`columns` = a tuple of column names seperated by commas, \n",
    "\n",
    "i.e. (sensor_name, date, reading)\n",
    "\n",
    "--\n",
    "\n",
    "`values` = a tuple of question marks, one per column name, seperated by commas\n",
    "\n",
    "i.e. (?, ?, ?)\n",
    "\n",
    "*currently the function assigns a UUID (random ID number) to the first column in the SQL table. Comment out that line if you'd like*"
   ]
  },
  {
   "cell_type": "code",
   "execution_count": null,
   "metadata": {},
   "outputs": [],
   "source": [
    "def load_df_to_sqlserver(df, sql_table_name, columns, values):\n",
    "\n",
    "    \n",
    "    for row in df.itertuples():\n",
    "\n",
    "        \n",
    "        cursor.execute('''\n",
    "        INSERT INTO ''' + sql_table_name + ''' ''' + columns + '''\n",
    "        VALUES ''' + values + '''\n",
    "        ''',\n",
    "        uuid.uuid4(), #comment out if no GUID necessary\n",
    "\n",
    "        for i in np.arange(len(columns)-1):\n",
    "            row.column[i],\n",
    "        row.column[len(columns)]\n",
    "\n",
    "                      )\n",
    "    conn.commit()"
   ]
  },
  {
   "cell_type": "markdown",
   "metadata": {},
   "source": [
    "## 2. SQL Alchemy"
   ]
  },
  {
   "cell_type": "markdown",
   "metadata": {},
   "source": [
    "@benjie FILL ME IN"
   ]
  }
 ],
 "metadata": {
  "kernelspec": {
   "display_name": "Python 3.9.12 ('base')",
   "language": "python",
   "name": "python3"
  },
  "language_info": {
   "codemirror_mode": {
    "name": "ipython",
    "version": 3
   },
   "file_extension": ".py",
   "mimetype": "text/x-python",
   "name": "python",
   "nbconvert_exporter": "python",
   "pygments_lexer": "ipython3",
   "version": "3.9.12"
  },
  "orig_nbformat": 4,
  "vscode": {
   "interpreter": {
    "hash": "62eaf0967e57fc27937e4fba2e5ff8a8c48118aaa21290068a641422be1f8935"
   }
  }
 },
 "nbformat": 4,
 "nbformat_minor": 2
}
